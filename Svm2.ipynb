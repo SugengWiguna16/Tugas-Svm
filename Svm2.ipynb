{
 "cells": [
  {
   "cell_type": "code",
   "execution_count": null,
   "id": "96608195-bdac-4623-9111-76caa2359b2d",
   "metadata": {},
   "outputs": [],
   "source": [
    "#clasification dengan SVC (Support Vector Classifer)\n",
    "from sklearn.svm import SVC\n",
    "model = SVC(random_state=0)\n",
    "model.fit(X_train, y_train)\n",
    "\n",
    "from sklearn.metrics import classification_report\n",
    "\n",
    "y_pred = model.predict(X_test)\n",
    "print(classification_report(y_test, y_pred))\n"
   ]
  }
 ],
 "metadata": {
  "kernelspec": {
   "display_name": "Python 3 (ipykernel)",
   "language": "python",
   "name": "python3"
  },
  "language_info": {
   "name": ""
  }
 },
 "nbformat": 4,
 "nbformat_minor": 5
}
