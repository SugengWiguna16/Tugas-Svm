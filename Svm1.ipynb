{
 "cells": [
  {
   "cell_type": "code",
   "execution_count": null,
   "id": "2a7620c7-4895-4435-a500-568c174bfa5f",
   "metadata": {},
   "outputs": [],
   "source": [
    "#datashet : The MNIST database of handwritten digits\n",
    "\n",
    "from sklearn.datasets import fetch_openml\n",
    "\n",
    "X, y = fetch_openml ('mnist_784', data_home='./dataset/mnist', return_X_y=True)\n",
    "X.shape \n",
    "\n",
    "import matplotlib.pyplot as plt\n",
    "import matplotlib.cm as cm\n",
    "import numpy as np\n",
    "\n",
    "pos = 1 \n",
    "for data in X[:8]:\n",
    "    plt.subplot(1, 8, pos)\n",
    "    plt.imshow(data.reshape((28, 28)), \n",
    "    cmap = cm.Greys_r)\n",
    "    plt.axis('off')\n",
    "    pos += 1\n",
    "\n",
    "    plt.show()\n",
    "\n",
    "y[:8]\n",
    "\n",
    "#X_train = X[:6000]\n",
    "#y_train = y[:6000]\n",
    "#X_test = X[6000:]\n",
    "#y_test = y[6000:]\n",
    "\n",
    "X_train = X[:1000]\n",
    "y_train = y[:1000]\n",
    "X_test = X[69000:]\n",
    "y_test = y[69000:]"
   ]
  }
 ],
 "metadata": {
  "kernelspec": {
   "display_name": "Python 3 (ipykernel)",
   "language": "python",
   "name": "python3"
  },
  "language_info": {
   "name": ""
  }
 },
 "nbformat": 4,
 "nbformat_minor": 5
}
